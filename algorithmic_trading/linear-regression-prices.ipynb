{
 "cells": [
  {
   "cell_type": "code",
   "execution_count": 3,
   "id": "35e165d5-39a9-4a9b-943a-11e575891abe",
   "metadata": {
    "tags": []
   },
   "outputs": [],
   "source": [
    "import warnings\n",
    "warnings.filterwarnings('ignore')"
   ]
  },
  {
   "cell_type": "code",
   "execution_count": 4,
   "id": "5616baeb-74ef-4a78-94c5-aedff506a2df",
   "metadata": {
    "tags": []
   },
   "outputs": [],
   "source": [
    "# imports \n",
    "import pandas as pd\n",
    "import numpy as np\n",
    "import matplotlib.pyplot as plt  \n",
    "from talib import RSI\n",
    "from datetime import datetime as dt \n",
    "idx = pd.IndexSlice"
   ]
  },
  {
   "cell_type": "markdown",
   "id": "c2c53e1a-c474-4d73-ab20-cd789f5911a4",
   "metadata": {},
   "source": [
    "### Get data "
   ]
  },
  {
   "cell_type": "code",
   "execution_count": 5,
   "id": "7066bbb9-1c7d-41c2-9541-08a505fc000b",
   "metadata": {
    "tags": []
   },
   "outputs": [
    {
     "data": {
      "text/html": [
       "<div>\n",
       "<style scoped>\n",
       "    .dataframe tbody tr th:only-of-type {\n",
       "        vertical-align: middle;\n",
       "    }\n",
       "\n",
       "    .dataframe tbody tr th {\n",
       "        vertical-align: top;\n",
       "    }\n",
       "\n",
       "    .dataframe thead th {\n",
       "        text-align: right;\n",
       "    }\n",
       "</style>\n",
       "<table border=\"1\" class=\"dataframe\">\n",
       "  <thead>\n",
       "    <tr style=\"text-align: right;\">\n",
       "      <th></th>\n",
       "      <th>Date</th>\n",
       "      <th>AAPL.O</th>\n",
       "      <th>MSFT.O</th>\n",
       "      <th>INTC.O</th>\n",
       "      <th>AMZN.O</th>\n",
       "      <th>GS.N</th>\n",
       "      <th>SPY</th>\n",
       "      <th>.SPX</th>\n",
       "      <th>.VIX</th>\n",
       "      <th>EUR=</th>\n",
       "      <th>XAU=</th>\n",
       "      <th>GDX</th>\n",
       "      <th>GLD</th>\n",
       "    </tr>\n",
       "  </thead>\n",
       "  <tbody>\n",
       "    <tr>\n",
       "      <th>1</th>\n",
       "      <td>2010-01-04</td>\n",
       "      <td>30.572827</td>\n",
       "      <td>30.950</td>\n",
       "      <td>20.88</td>\n",
       "      <td>133.90</td>\n",
       "      <td>173.08</td>\n",
       "      <td>113.33</td>\n",
       "      <td>1132.99</td>\n",
       "      <td>20.04</td>\n",
       "      <td>1.4411</td>\n",
       "      <td>1120.00</td>\n",
       "      <td>47.71</td>\n",
       "      <td>109.80</td>\n",
       "    </tr>\n",
       "    <tr>\n",
       "      <th>2</th>\n",
       "      <td>2010-01-05</td>\n",
       "      <td>30.625684</td>\n",
       "      <td>30.960</td>\n",
       "      <td>20.87</td>\n",
       "      <td>134.69</td>\n",
       "      <td>176.14</td>\n",
       "      <td>113.63</td>\n",
       "      <td>1136.52</td>\n",
       "      <td>19.35</td>\n",
       "      <td>1.4368</td>\n",
       "      <td>1118.65</td>\n",
       "      <td>48.17</td>\n",
       "      <td>109.70</td>\n",
       "    </tr>\n",
       "    <tr>\n",
       "      <th>3</th>\n",
       "      <td>2010-01-06</td>\n",
       "      <td>30.138541</td>\n",
       "      <td>30.770</td>\n",
       "      <td>20.80</td>\n",
       "      <td>132.25</td>\n",
       "      <td>174.26</td>\n",
       "      <td>113.71</td>\n",
       "      <td>1137.14</td>\n",
       "      <td>19.16</td>\n",
       "      <td>1.4412</td>\n",
       "      <td>1138.50</td>\n",
       "      <td>49.34</td>\n",
       "      <td>111.51</td>\n",
       "    </tr>\n",
       "    <tr>\n",
       "      <th>4</th>\n",
       "      <td>2010-01-07</td>\n",
       "      <td>30.082827</td>\n",
       "      <td>30.452</td>\n",
       "      <td>20.60</td>\n",
       "      <td>130.00</td>\n",
       "      <td>177.67</td>\n",
       "      <td>114.19</td>\n",
       "      <td>1141.69</td>\n",
       "      <td>19.06</td>\n",
       "      <td>1.4318</td>\n",
       "      <td>1131.90</td>\n",
       "      <td>49.10</td>\n",
       "      <td>110.82</td>\n",
       "    </tr>\n",
       "    <tr>\n",
       "      <th>5</th>\n",
       "      <td>2010-01-08</td>\n",
       "      <td>30.282827</td>\n",
       "      <td>30.660</td>\n",
       "      <td>20.83</td>\n",
       "      <td>133.52</td>\n",
       "      <td>174.31</td>\n",
       "      <td>114.57</td>\n",
       "      <td>1144.98</td>\n",
       "      <td>18.13</td>\n",
       "      <td>1.4412</td>\n",
       "      <td>1136.10</td>\n",
       "      <td>49.84</td>\n",
       "      <td>111.37</td>\n",
       "    </tr>\n",
       "  </tbody>\n",
       "</table>\n",
       "</div>"
      ],
      "text/plain": [
       "         Date     AAPL.O  MSFT.O  INTC.O  AMZN.O    GS.N     SPY     .SPX  \\\n",
       "1  2010-01-04  30.572827  30.950   20.88  133.90  173.08  113.33  1132.99   \n",
       "2  2010-01-05  30.625684  30.960   20.87  134.69  176.14  113.63  1136.52   \n",
       "3  2010-01-06  30.138541  30.770   20.80  132.25  174.26  113.71  1137.14   \n",
       "4  2010-01-07  30.082827  30.452   20.60  130.00  177.67  114.19  1141.69   \n",
       "5  2010-01-08  30.282827  30.660   20.83  133.52  174.31  114.57  1144.98   \n",
       "\n",
       "    .VIX    EUR=     XAU=    GDX     GLD  \n",
       "1  20.04  1.4411  1120.00  47.71  109.80  \n",
       "2  19.35  1.4368  1118.65  48.17  109.70  \n",
       "3  19.16  1.4412  1138.50  49.34  111.51  \n",
       "4  19.06  1.4318  1131.90  49.10  110.82  \n",
       "5  18.13  1.4412  1136.10  49.84  111.37  "
      ]
     },
     "execution_count": 5,
     "metadata": {},
     "output_type": "execute_result"
    }
   ],
   "source": [
    "raw = pd.read_csv('http://hilpisch.com/pyalgo_eikon_eod_data.csv', parse_dates=True).dropna()\n",
    "raw.head()"
   ]
  },
  {
   "cell_type": "code",
   "execution_count": 6,
   "id": "c4f0f661-981c-4c4d-8f32-ca7aa6ac8e01",
   "metadata": {
    "tags": []
   },
   "outputs": [
    {
     "data": {
      "text/html": [
       "<div>\n",
       "<style scoped>\n",
       "    .dataframe tbody tr th:only-of-type {\n",
       "        vertical-align: middle;\n",
       "    }\n",
       "\n",
       "    .dataframe tbody tr th {\n",
       "        vertical-align: top;\n",
       "    }\n",
       "\n",
       "    .dataframe thead th {\n",
       "        text-align: right;\n",
       "    }\n",
       "</style>\n",
       "<table border=\"1\" class=\"dataframe\">\n",
       "  <thead>\n",
       "    <tr style=\"text-align: right;\">\n",
       "      <th></th>\n",
       "      <th></th>\n",
       "      <th>close</th>\n",
       "    </tr>\n",
       "    <tr>\n",
       "      <th>ticker</th>\n",
       "      <th>date</th>\n",
       "      <th></th>\n",
       "    </tr>\n",
       "  </thead>\n",
       "  <tbody>\n",
       "    <tr>\n",
       "      <th rowspan=\"5\" valign=\"top\">.SPX</th>\n",
       "      <th>2012-01-03</th>\n",
       "      <td>1277.06</td>\n",
       "    </tr>\n",
       "    <tr>\n",
       "      <th>2012-01-04</th>\n",
       "      <td>1277.30</td>\n",
       "    </tr>\n",
       "    <tr>\n",
       "      <th>2012-01-05</th>\n",
       "      <td>1281.06</td>\n",
       "    </tr>\n",
       "    <tr>\n",
       "      <th>2012-01-06</th>\n",
       "      <td>1277.81</td>\n",
       "    </tr>\n",
       "    <tr>\n",
       "      <th>2012-01-09</th>\n",
       "      <td>1280.70</td>\n",
       "    </tr>\n",
       "  </tbody>\n",
       "</table>\n",
       "</div>"
      ],
      "text/plain": [
       "                     close\n",
       "ticker date               \n",
       ".SPX   2012-01-03  1277.06\n",
       "       2012-01-04  1277.30\n",
       "       2012-01-05  1281.06\n",
       "       2012-01-06  1277.81\n",
       "       2012-01-09  1280.70"
      ]
     },
     "execution_count": 6,
     "metadata": {},
     "output_type": "execute_result"
    }
   ],
   "source": [
    "# reshape table \n",
    "prices = pd.melt(raw,  id_vars = ['Date'], value_vars = raw.columns,\n",
    "                 var_name = 'Ticker', \n",
    "                 value_name = 'Close') \n",
    "# set index by ticker and Data \n",
    "prices.rename(columns={'Ticker': 'ticker', 'Date':'date', 'Close' :'close'}, inplace=True) \n",
    "prices.set_index(['ticker', 'date'], inplace=True) \n",
    "prices.sort_index(level = ['ticker', 'date'], inplace=True)\n",
    "\n",
    "# select timeframe\n",
    "start = '2012-01-01'\n",
    "end = '2013-12-31'\n",
    "prices = prices.loc[idx[:, start:end], :]\n",
    "prices.head()\n",
    "prices.head()"
   ]
  },
  {
   "cell_type": "markdown",
   "id": "b3ab9a35-e05f-4ddf-b6d8-0b78332ecb88",
   "metadata": {},
   "source": [
    "### Add signals "
   ]
  },
  {
   "cell_type": "code",
   "execution_count": 7,
   "id": "56b88946-1440-49e5-9405-b7d340a040b7",
   "metadata": {
    "tags": []
   },
   "outputs": [],
   "source": [
    "rolling_1m = prices.close.groupby('ticker').rolling(window=21).mean().values\n",
    "prices['rolling_1m'] = rolling_1m\n",
    "\n",
    "rolling_rank = prices.rolling_1m.groupby('ticker').rank(ascending=False).values\n",
    "prices['rolling_rank'] = rolling_rank\n",
    "\n",
    "prices['rsi'] = prices.close.groupby(level='ticker').apply(RSI)"
   ]
  },
  {
   "cell_type": "markdown",
   "id": "589970c8-c39c-4648-864e-f0feaccb9557",
   "metadata": {},
   "source": [
    "### Calculate lagged returns"
   ]
  },
  {
   "cell_type": "code",
   "execution_count": 8,
   "id": "76eb69d4-4364-4699-a176-25834464878a",
   "metadata": {
    "tags": []
   },
   "outputs": [],
   "source": [
    "lags = [1, 2, 5, 10, 21, 63] "
   ]
  },
  {
   "cell_type": "code",
   "execution_count": 9,
   "id": "4a8d4c34-c2a1-4a68-93cb-7cc76582f6ec",
   "metadata": {
    "tags": []
   },
   "outputs": [],
   "source": [
    "for lag in lags: \n",
    "    prices[f'returns_{lag}d'] = prices.close.pct_change(lag) "
   ]
  },
  {
   "cell_type": "markdown",
   "id": "f2157522-fdff-42ea-8553-c8c1ef0bbf55",
   "metadata": {},
   "source": [
    "### Linear Regression "
   ]
  },
  {
   "cell_type": "code",
   "execution_count": 10,
   "id": "f5298523-9e7e-42e0-b9dd-6416556ffcb2",
   "metadata": {},
   "outputs": [],
   "source": [
    "class MultipleTimeSeriesCV:\n",
    "    \"\"\"Generates tuples of train_idx, test_idx pairs\n",
    "    Assumes the MultiIndex contains levels 'symbol' and 'date'\n",
    "    purges overlapping outcomes\"\"\"\n",
    "\n",
    "    def __init__(self,\n",
    "                 n_splits=3,\n",
    "                 train_period_length=126,\n",
    "                 test_period_length=21,\n",
    "                 lookahead=None,\n",
    "                 shuffle=False):\n",
    "        self.n_splits = n_splits\n",
    "        self.lookahead = lookahead\n",
    "        self.test_length = test_period_length\n",
    "        self.train_length = train_period_length\n",
    "        self.shuffle = shuffle\n",
    "\n",
    "    def split(self, X, y=None, groups=None):\n",
    "        unique_dates = X.index.get_level_values('date').unique()\n",
    "        days = sorted(unique_dates, reverse=True)\n",
    "\n",
    "        split_idx = []\n",
    "        for i in range(self.n_splits):\n",
    "            test_end_idx = i * self.test_length\n",
    "            test_start_idx = test_end_idx + self.test_length\n",
    "            train_end_idx = test_start_idx + self.lookahead - 1\n",
    "            train_start_idx = train_end_idx + self.train_length + self.lookahead - 1\n",
    "            split_idx.append([train_start_idx, train_end_idx,\n",
    "                              test_start_idx, test_end_idx])\n",
    "\n",
    "        dates = X.reset_index()[['date']]\n",
    "        print(dates)\n",
    "        for train_start, train_end, test_start, test_end in split_idx:\n",
    "            train_idx = dates[(dates.date > days[train_start])\n",
    "                              & (dates.date <= days[train_end])].index\n",
    "            test_idx = dates[(dates.date > days[test_start])\n",
    "                             & (dates.date <= days[test_end])].index\n",
    "            if self.shuffle:\n",
    "                np.random.shuffle(list(train_idx))\n",
    "            yield train_idx, test_idx\n",
    "\n",
    "    def get_n_splits(self, X, y, groups=None):\n",
    "        return self.n_splits"
   ]
  },
  {
   "cell_type": "code",
   "execution_count": null,
   "id": "32bff272-2732-4696-9106-c6dd716061e8",
   "metadata": {},
   "outputs": [],
   "source": []
  }
 ],
 "metadata": {
  "kernelspec": {
   "display_name": "Python 3 (ipykernel)",
   "language": "python",
   "name": "python3"
  },
  "language_info": {
   "codemirror_mode": {
    "name": "ipython",
    "version": 3
   },
   "file_extension": ".py",
   "mimetype": "text/x-python",
   "name": "python",
   "nbconvert_exporter": "python",
   "pygments_lexer": "ipython3",
   "version": "3.11.3"
  }
 },
 "nbformat": 4,
 "nbformat_minor": 5
}
